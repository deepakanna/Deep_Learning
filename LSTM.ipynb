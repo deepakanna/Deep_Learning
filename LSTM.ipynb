{
  "nbformat": 4,
  "nbformat_minor": 0,
  "metadata": {
    "colab": {
      "provenance": [],
      "authorship_tag": "ABX9TyPFFLIEOF9nBjl0YIKKoIuF",
      "include_colab_link": true
    },
    "kernelspec": {
      "name": "python3",
      "display_name": "Python 3"
    },
    "language_info": {
      "name": "python"
    }
  },
  "cells": [
    {
      "cell_type": "markdown",
      "metadata": {
        "id": "view-in-github",
        "colab_type": "text"
      },
      "source": [
        "<a href=\"https://colab.research.google.com/github/deepakanna/Deep_Learning/blob/main/LSTM.ipynb\" target=\"_parent\"><img src=\"https://colab.research.google.com/assets/colab-badge.svg\" alt=\"Open In Colab\"/></a>"
      ]
    },
    {
      "cell_type": "code",
      "execution_count": 59,
      "metadata": {
        "id": "u3wktBPAeD83"
      },
      "outputs": [],
      "source": [
        "import tensorflow as tf\n",
        "from tensorflow.keras.preprocessing.text import Tokenizer"
      ]
    },
    {
      "cell_type": "code",
      "source": [
        "from tensorflow.keras.preprocessing.sequence import pad_sequences"
      ],
      "metadata": {
        "id": "oe7PI2LamrVN"
      },
      "execution_count": 60,
      "outputs": []
    },
    {
      "cell_type": "code",
      "source": [
        "!wget --no-check-certificate \\\n",
        "    https://drive.google.com/uc?id=13ySLC_ue6Umt9RJYSeM2t-V0kCv-4C-P -O /tmp/sentiment.csv"
      ],
      "metadata": {
        "colab": {
          "base_uri": "https://localhost:8080/"
        },
        "id": "2JLSnWo3eaBE",
        "outputId": "d17a3a5e-fde8-4580-a767-a59674154e5f"
      },
      "execution_count": 61,
      "outputs": [
        {
          "output_type": "stream",
          "name": "stdout",
          "text": [
            "--2023-04-04 05:37:33--  https://drive.google.com/uc?id=13ySLC_ue6Umt9RJYSeM2t-V0kCv-4C-P\n",
            "Resolving drive.google.com (drive.google.com)... 172.217.203.100, 172.217.203.138, 172.217.203.101, ...\n",
            "Connecting to drive.google.com (drive.google.com)|172.217.203.100|:443... connected.\n",
            "HTTP request sent, awaiting response... 303 See Other\n",
            "Location: https://doc-08-ak-docs.googleusercontent.com/docs/securesc/ha0ro937gcuc7l7deffksulhg5h7mbp1/aijp4p5k83206sv5ef16fqf1b2n81ssp/1680586650000/11118900490791463723/*/13ySLC_ue6Umt9RJYSeM2t-V0kCv-4C-P?uuid=4b52d714-4162-4685-8298-e03340242d55 [following]\n",
            "Warning: wildcards not supported in HTTP.\n",
            "--2023-04-04 05:37:33--  https://doc-08-ak-docs.googleusercontent.com/docs/securesc/ha0ro937gcuc7l7deffksulhg5h7mbp1/aijp4p5k83206sv5ef16fqf1b2n81ssp/1680586650000/11118900490791463723/*/13ySLC_ue6Umt9RJYSeM2t-V0kCv-4C-P?uuid=4b52d714-4162-4685-8298-e03340242d55\n",
            "Resolving doc-08-ak-docs.googleusercontent.com (doc-08-ak-docs.googleusercontent.com)... 142.251.162.132, 2607:f8b0:400c:c38::84\n",
            "Connecting to doc-08-ak-docs.googleusercontent.com (doc-08-ak-docs.googleusercontent.com)|142.251.162.132|:443... connected.\n",
            "HTTP request sent, awaiting response... 200 OK\n",
            "Length: 127831 (125K) [text/csv]\n",
            "Saving to: ‘/tmp/sentiment.csv’\n",
            "\n",
            "/tmp/sentiment.csv  100%[===================>] 124.83K  --.-KB/s    in 0.001s  \n",
            "\n",
            "2023-04-04 05:37:33 (84.9 MB/s) - ‘/tmp/sentiment.csv’ saved [127831/127831]\n",
            "\n"
          ]
        }
      ]
    },
    {
      "cell_type": "code",
      "source": [
        "import pandas as pd\n",
        "import numpy as np"
      ],
      "metadata": {
        "id": "_8fDD24mfJIu"
      },
      "execution_count": 62,
      "outputs": []
    },
    {
      "cell_type": "code",
      "source": [
        "df=pd.read_csv('/tmp/sentiment.csv')\n",
        "df.head()"
      ],
      "metadata": {
        "colab": {
          "base_uri": "https://localhost:8080/",
          "height": 206
        },
        "id": "Xyl3HZy2eaKp",
        "outputId": "c3e89461-b701-4d62-9255-83bca1ac5031"
      },
      "execution_count": 63,
      "outputs": [
        {
          "output_type": "execute_result",
          "data": {
            "text/plain": [
              "   Unnamed: 0                                               text  sentiment\n",
              "0           0  So there is no way for me to plug it in here i...          0\n",
              "1           1                         Good case Excellent value.          1\n",
              "2           2                             Great for the jawbone.          1\n",
              "3           3  Tied to charger for conversations lasting more...          0\n",
              "4           4                                  The mic is great.          1"
            ],
            "text/html": [
              "\n",
              "  <div id=\"df-85b06efc-0558-4c55-ac7c-6b6976673512\">\n",
              "    <div class=\"colab-df-container\">\n",
              "      <div>\n",
              "<style scoped>\n",
              "    .dataframe tbody tr th:only-of-type {\n",
              "        vertical-align: middle;\n",
              "    }\n",
              "\n",
              "    .dataframe tbody tr th {\n",
              "        vertical-align: top;\n",
              "    }\n",
              "\n",
              "    .dataframe thead th {\n",
              "        text-align: right;\n",
              "    }\n",
              "</style>\n",
              "<table border=\"1\" class=\"dataframe\">\n",
              "  <thead>\n",
              "    <tr style=\"text-align: right;\">\n",
              "      <th></th>\n",
              "      <th>Unnamed: 0</th>\n",
              "      <th>text</th>\n",
              "      <th>sentiment</th>\n",
              "    </tr>\n",
              "  </thead>\n",
              "  <tbody>\n",
              "    <tr>\n",
              "      <th>0</th>\n",
              "      <td>0</td>\n",
              "      <td>So there is no way for me to plug it in here i...</td>\n",
              "      <td>0</td>\n",
              "    </tr>\n",
              "    <tr>\n",
              "      <th>1</th>\n",
              "      <td>1</td>\n",
              "      <td>Good case Excellent value.</td>\n",
              "      <td>1</td>\n",
              "    </tr>\n",
              "    <tr>\n",
              "      <th>2</th>\n",
              "      <td>2</td>\n",
              "      <td>Great for the jawbone.</td>\n",
              "      <td>1</td>\n",
              "    </tr>\n",
              "    <tr>\n",
              "      <th>3</th>\n",
              "      <td>3</td>\n",
              "      <td>Tied to charger for conversations lasting more...</td>\n",
              "      <td>0</td>\n",
              "    </tr>\n",
              "    <tr>\n",
              "      <th>4</th>\n",
              "      <td>4</td>\n",
              "      <td>The mic is great.</td>\n",
              "      <td>1</td>\n",
              "    </tr>\n",
              "  </tbody>\n",
              "</table>\n",
              "</div>\n",
              "      <button class=\"colab-df-convert\" onclick=\"convertToInteractive('df-85b06efc-0558-4c55-ac7c-6b6976673512')\"\n",
              "              title=\"Convert this dataframe to an interactive table.\"\n",
              "              style=\"display:none;\">\n",
              "        \n",
              "  <svg xmlns=\"http://www.w3.org/2000/svg\" height=\"24px\"viewBox=\"0 0 24 24\"\n",
              "       width=\"24px\">\n",
              "    <path d=\"M0 0h24v24H0V0z\" fill=\"none\"/>\n",
              "    <path d=\"M18.56 5.44l.94 2.06.94-2.06 2.06-.94-2.06-.94-.94-2.06-.94 2.06-2.06.94zm-11 1L8.5 8.5l.94-2.06 2.06-.94-2.06-.94L8.5 2.5l-.94 2.06-2.06.94zm10 10l.94 2.06.94-2.06 2.06-.94-2.06-.94-.94-2.06-.94 2.06-2.06.94z\"/><path d=\"M17.41 7.96l-1.37-1.37c-.4-.4-.92-.59-1.43-.59-.52 0-1.04.2-1.43.59L10.3 9.45l-7.72 7.72c-.78.78-.78 2.05 0 2.83L4 21.41c.39.39.9.59 1.41.59.51 0 1.02-.2 1.41-.59l7.78-7.78 2.81-2.81c.8-.78.8-2.07 0-2.86zM5.41 20L4 18.59l7.72-7.72 1.47 1.35L5.41 20z\"/>\n",
              "  </svg>\n",
              "      </button>\n",
              "      \n",
              "  <style>\n",
              "    .colab-df-container {\n",
              "      display:flex;\n",
              "      flex-wrap:wrap;\n",
              "      gap: 12px;\n",
              "    }\n",
              "\n",
              "    .colab-df-convert {\n",
              "      background-color: #E8F0FE;\n",
              "      border: none;\n",
              "      border-radius: 50%;\n",
              "      cursor: pointer;\n",
              "      display: none;\n",
              "      fill: #1967D2;\n",
              "      height: 32px;\n",
              "      padding: 0 0 0 0;\n",
              "      width: 32px;\n",
              "    }\n",
              "\n",
              "    .colab-df-convert:hover {\n",
              "      background-color: #E2EBFA;\n",
              "      box-shadow: 0px 1px 2px rgba(60, 64, 67, 0.3), 0px 1px 3px 1px rgba(60, 64, 67, 0.15);\n",
              "      fill: #174EA6;\n",
              "    }\n",
              "\n",
              "    [theme=dark] .colab-df-convert {\n",
              "      background-color: #3B4455;\n",
              "      fill: #D2E3FC;\n",
              "    }\n",
              "\n",
              "    [theme=dark] .colab-df-convert:hover {\n",
              "      background-color: #434B5C;\n",
              "      box-shadow: 0px 1px 3px 1px rgba(0, 0, 0, 0.15);\n",
              "      filter: drop-shadow(0px 1px 2px rgba(0, 0, 0, 0.3));\n",
              "      fill: #FFFFFF;\n",
              "    }\n",
              "  </style>\n",
              "\n",
              "      <script>\n",
              "        const buttonEl =\n",
              "          document.querySelector('#df-85b06efc-0558-4c55-ac7c-6b6976673512 button.colab-df-convert');\n",
              "        buttonEl.style.display =\n",
              "          google.colab.kernel.accessAllowed ? 'block' : 'none';\n",
              "\n",
              "        async function convertToInteractive(key) {\n",
              "          const element = document.querySelector('#df-85b06efc-0558-4c55-ac7c-6b6976673512');\n",
              "          const dataTable =\n",
              "            await google.colab.kernel.invokeFunction('convertToInteractive',\n",
              "                                                     [key], {});\n",
              "          if (!dataTable) return;\n",
              "\n",
              "          const docLinkHtml = 'Like what you see? Visit the ' +\n",
              "            '<a target=\"_blank\" href=https://colab.research.google.com/notebooks/data_table.ipynb>data table notebook</a>'\n",
              "            + ' to learn more about interactive tables.';\n",
              "          element.innerHTML = '';\n",
              "          dataTable['output_type'] = 'display_data';\n",
              "          await google.colab.output.renderOutput(dataTable, element);\n",
              "          const docLink = document.createElement('div');\n",
              "          docLink.innerHTML = docLinkHtml;\n",
              "          element.appendChild(docLink);\n",
              "        }\n",
              "      </script>\n",
              "    </div>\n",
              "  </div>\n",
              "  "
            ]
          },
          "metadata": {},
          "execution_count": 63
        }
      ]
    },
    {
      "cell_type": "code",
      "source": [
        "label=df['sentiment'].tolist()"
      ],
      "metadata": {
        "id": "uwcPdESaeaTv"
      },
      "execution_count": 64,
      "outputs": []
    },
    {
      "cell_type": "code",
      "source": [
        "sent=df['text'].tolist()\n",
        "vocab=1000"
      ],
      "metadata": {
        "id": "aaik-utWeaaO"
      },
      "execution_count": 65,
      "outputs": []
    },
    {
      "cell_type": "code",
      "source": [
        "tokenizer=Tokenizer(num_words=vocab,oov_token='oov')\n",
        "tokenizer.fit_on_texts(sent)"
      ],
      "metadata": {
        "id": "IYWwijiAeadP"
      },
      "execution_count": 66,
      "outputs": []
    },
    {
      "cell_type": "code",
      "source": [
        "training_size=int(len(sent)*0.8)\n",
        "training_set=sent[:training_size]\n",
        "testing_set=sent[training_size:]\n",
        "training_label=label[0:training_size]\n",
        "testing_label=label[training_size:]\n"
      ],
      "metadata": {
        "id": "PE5ciI3RmoBQ"
      },
      "execution_count": 67,
      "outputs": []
    },
    {
      "cell_type": "code",
      "source": [
        "seq=tokenizer.texts_to_sequences(training_set)\n",
        "max_length=50\n",
        "padded_seq=pad_sequences(seq,maxlen=max_length,padding='post',truncating='post')"
      ],
      "metadata": {
        "id": "2G3OEmLReajD"
      },
      "execution_count": 68,
      "outputs": []
    },
    {
      "cell_type": "code",
      "source": [
        "seq1=tokenizer.texts_to_sequences(testing_set)\n",
        "max_length=50\n",
        "padded_seq1=pad_sequences(seq1,maxlen=max_length,padding='post',truncating='post')"
      ],
      "metadata": {
        "id": "wa37qgZjwONJ"
      },
      "execution_count": 74,
      "outputs": []
    },
    {
      "cell_type": "code",
      "source": [
        "tr_label"
      ],
      "metadata": {
        "colab": {
          "base_uri": "https://localhost:8080/"
        },
        "id": "CYm4uJWGvuL1",
        "outputId": "b55bf0c1-5967-47ee-f426-1c748a34e081"
      },
      "execution_count": 75,
      "outputs": [
        {
          "output_type": "execute_result",
          "data": {
            "text/plain": [
              "array([0, 1, 1, ..., 1, 0, 1])"
            ]
          },
          "metadata": {},
          "execution_count": 75
        }
      ]
    },
    {
      "cell_type": "code",
      "source": [
        "tr_label=np.array(training_label)\n",
        "tst_label=np.array(testing_label)"
      ],
      "metadata": {
        "id": "M2C0L4gJmoEE"
      },
      "execution_count": 76,
      "outputs": []
    },
    {
      "cell_type": "code",
      "source": [
        "dim=16\n",
        "model=tf.keras.Sequential([\n",
        "    tf.keras.layers.Embedding(vocab,dim,input_length=max_length),\n",
        "    tf.keras.layers.GlobalAveragePooling1D(),\n",
        "    tf.keras.layers.Dense(6,activation='relu'),\n",
        "    tf.keras.layers.Dense(1,activation='sigmoid')\n",
        "\n",
        "])\n",
        "model.summary()"
      ],
      "metadata": {
        "colab": {
          "base_uri": "https://localhost:8080/"
        },
        "id": "AwAz1KjjmoGu",
        "outputId": "2d304a71-58b1-47c5-edee-72792cb32692"
      },
      "execution_count": 77,
      "outputs": [
        {
          "output_type": "stream",
          "name": "stdout",
          "text": [
            "Model: \"sequential_3\"\n",
            "_________________________________________________________________\n",
            " Layer (type)                Output Shape              Param #   \n",
            "=================================================================\n",
            " embedding_3 (Embedding)     (None, 50, 16)            16000     \n",
            "                                                                 \n",
            " global_average_pooling1d_3   (None, 16)               0         \n",
            " (GlobalAveragePooling1D)                                        \n",
            "                                                                 \n",
            " dense_6 (Dense)             (None, 6)                 102       \n",
            "                                                                 \n",
            " dense_7 (Dense)             (None, 1)                 7         \n",
            "                                                                 \n",
            "=================================================================\n",
            "Total params: 16,109\n",
            "Trainable params: 16,109\n",
            "Non-trainable params: 0\n",
            "_________________________________________________________________\n"
          ]
        }
      ]
    },
    {
      "cell_type": "code",
      "source": [
        "epochs=30\n",
        "model.compile(optimizer='adam',loss='binary_crossentropy',metrics=['accuracy'])\n",
        "model.fit(padded_seq,tr_label,epochs=epochs,validation_data=(padded_seq1,tst_label))"
      ],
      "metadata": {
        "colab": {
          "base_uri": "https://localhost:8080/"
        },
        "id": "7o28RLq-moKI",
        "outputId": "8ef0eb11-3ae9-4672-86d0-b8abd475f5c3"
      },
      "execution_count": 81,
      "outputs": [
        {
          "output_type": "stream",
          "name": "stdout",
          "text": [
            "Epoch 1/30\n",
            "50/50 [==============================] - 2s 13ms/step - loss: 0.6933 - accuracy: 0.4959 - val_loss: 0.6939 - val_accuracy: 0.4110\n",
            "Epoch 2/30\n",
            "50/50 [==============================] - 0s 7ms/step - loss: 0.6927 - accuracy: 0.5223 - val_loss: 0.6946 - val_accuracy: 0.4110\n",
            "Epoch 3/30\n",
            "50/50 [==============================] - 0s 4ms/step - loss: 0.6917 - accuracy: 0.5574 - val_loss: 0.6902 - val_accuracy: 0.6341\n",
            "Epoch 4/30\n",
            "50/50 [==============================] - 0s 3ms/step - loss: 0.6884 - accuracy: 0.6748 - val_loss: 0.6884 - val_accuracy: 0.6667\n",
            "Epoch 5/30\n",
            "50/50 [==============================] - 0s 3ms/step - loss: 0.6831 - accuracy: 0.7131 - val_loss: 0.6823 - val_accuracy: 0.7368\n",
            "Epoch 6/30\n",
            "50/50 [==============================] - 0s 4ms/step - loss: 0.6741 - accuracy: 0.7878 - val_loss: 0.6706 - val_accuracy: 0.7444\n",
            "Epoch 7/30\n",
            "50/50 [==============================] - 0s 4ms/step - loss: 0.6618 - accuracy: 0.7690 - val_loss: 0.6591 - val_accuracy: 0.7519\n",
            "Epoch 8/30\n",
            "50/50 [==============================] - 0s 3ms/step - loss: 0.6454 - accuracy: 0.7571 - val_loss: 0.6451 - val_accuracy: 0.7669\n",
            "Epoch 9/30\n",
            "50/50 [==============================] - 0s 4ms/step - loss: 0.6264 - accuracy: 0.7872 - val_loss: 0.6271 - val_accuracy: 0.7694\n",
            "Epoch 10/30\n",
            "50/50 [==============================] - 0s 3ms/step - loss: 0.6040 - accuracy: 0.7947 - val_loss: 0.6069 - val_accuracy: 0.7619\n",
            "Epoch 11/30\n",
            "50/50 [==============================] - 0s 3ms/step - loss: 0.5816 - accuracy: 0.8154 - val_loss: 0.5875 - val_accuracy: 0.7544\n",
            "Epoch 12/30\n",
            "50/50 [==============================] - 0s 3ms/step - loss: 0.5584 - accuracy: 0.8186 - val_loss: 0.5751 - val_accuracy: 0.7920\n",
            "Epoch 13/30\n",
            "50/50 [==============================] - 0s 4ms/step - loss: 0.5352 - accuracy: 0.8481 - val_loss: 0.5592 - val_accuracy: 0.7970\n",
            "Epoch 14/30\n",
            "50/50 [==============================] - 0s 3ms/step - loss: 0.5105 - accuracy: 0.8632 - val_loss: 0.5438 - val_accuracy: 0.7995\n",
            "Epoch 15/30\n",
            "50/50 [==============================] - 0s 3ms/step - loss: 0.4880 - accuracy: 0.8776 - val_loss: 0.5289 - val_accuracy: 0.7970\n",
            "Epoch 16/30\n",
            "50/50 [==============================] - 0s 3ms/step - loss: 0.4665 - accuracy: 0.8814 - val_loss: 0.5275 - val_accuracy: 0.8170\n",
            "Epoch 17/30\n",
            "50/50 [==============================] - 0s 3ms/step - loss: 0.4462 - accuracy: 0.8989 - val_loss: 0.5087 - val_accuracy: 0.8145\n",
            "Epoch 18/30\n",
            "50/50 [==============================] - 0s 4ms/step - loss: 0.4258 - accuracy: 0.9046 - val_loss: 0.4981 - val_accuracy: 0.8195\n",
            "Epoch 19/30\n",
            "50/50 [==============================] - 0s 4ms/step - loss: 0.4071 - accuracy: 0.9153 - val_loss: 0.4896 - val_accuracy: 0.8195\n",
            "Epoch 20/30\n",
            "50/50 [==============================] - 0s 3ms/step - loss: 0.3905 - accuracy: 0.9190 - val_loss: 0.4820 - val_accuracy: 0.8221\n",
            "Epoch 21/30\n",
            "50/50 [==============================] - 0s 3ms/step - loss: 0.3732 - accuracy: 0.9190 - val_loss: 0.4809 - val_accuracy: 0.8246\n",
            "Epoch 22/30\n",
            "50/50 [==============================] - 0s 3ms/step - loss: 0.3573 - accuracy: 0.9297 - val_loss: 0.4707 - val_accuracy: 0.8271\n",
            "Epoch 23/30\n",
            "50/50 [==============================] - 0s 4ms/step - loss: 0.3439 - accuracy: 0.9316 - val_loss: 0.4656 - val_accuracy: 0.8321\n",
            "Epoch 24/30\n",
            "50/50 [==============================] - 0s 3ms/step - loss: 0.3290 - accuracy: 0.9353 - val_loss: 0.4609 - val_accuracy: 0.8346\n",
            "Epoch 25/30\n",
            "50/50 [==============================] - 0s 3ms/step - loss: 0.3163 - accuracy: 0.9372 - val_loss: 0.4592 - val_accuracy: 0.8195\n",
            "Epoch 26/30\n",
            "50/50 [==============================] - 0s 4ms/step - loss: 0.3027 - accuracy: 0.9397 - val_loss: 0.4602 - val_accuracy: 0.8346\n",
            "Epoch 27/30\n",
            "50/50 [==============================] - 0s 3ms/step - loss: 0.2941 - accuracy: 0.9422 - val_loss: 0.4527 - val_accuracy: 0.8221\n",
            "Epoch 28/30\n",
            "50/50 [==============================] - 0s 3ms/step - loss: 0.2822 - accuracy: 0.9441 - val_loss: 0.4571 - val_accuracy: 0.8120\n",
            "Epoch 29/30\n",
            "50/50 [==============================] - 0s 3ms/step - loss: 0.2718 - accuracy: 0.9492 - val_loss: 0.4500 - val_accuracy: 0.8246\n",
            "Epoch 30/30\n",
            "50/50 [==============================] - 0s 3ms/step - loss: 0.2613 - accuracy: 0.9498 - val_loss: 0.4482 - val_accuracy: 0.8170\n"
          ]
        },
        {
          "output_type": "execute_result",
          "data": {
            "text/plain": [
              "<keras.callbacks.History at 0x7f38b7bf85e0>"
            ]
          },
          "metadata": {},
          "execution_count": 81
        }
      ]
    },
    {
      "cell_type": "code",
      "source": [
        "model1=tf.keras.Sequential([\n",
        "    tf.keras.layers.Embedding(vocab,dim,input_length=max_length),\n",
        "    tf.keras.layers.Bidirectional(tf.keras.layers.LSTM(16,return_sequences=True)),\n",
        "    tf.keras.layers.Bidirectional(tf.keras.layers.LSTM(16)),\n",
        "    tf.keras.layers.Dense(6,activation='relu'),\n",
        "    tf.keras.layers.Dense(1,activation='sigmoid')\n",
        "])\n",
        "model1.compile(optimizer='adam',loss='binary_crossentropy',metrics=['accuracy'])\n",
        "model1.fit(padded_seq,tr_label,epochs=epochs,validation_data=(padded_seq1,tst_label))"
      ],
      "metadata": {
        "colab": {
          "base_uri": "https://localhost:8080/"
        },
        "id": "nVVNpIOC0imL",
        "outputId": "c1577a14-af95-4080-85b4-ae3f38680100"
      },
      "execution_count": 94,
      "outputs": [
        {
          "output_type": "stream",
          "name": "stdout",
          "text": [
            "Epoch 1/30\n",
            "50/50 [==============================] - 16s 134ms/step - loss: 0.6918 - accuracy: 0.5210 - val_loss: 0.6947 - val_accuracy: 0.4135\n",
            "Epoch 2/30\n",
            "50/50 [==============================] - 4s 77ms/step - loss: 0.6623 - accuracy: 0.6227 - val_loss: 0.5854 - val_accuracy: 0.7193\n",
            "Epoch 3/30\n",
            "50/50 [==============================] - 5s 105ms/step - loss: 0.3855 - accuracy: 0.8412 - val_loss: 0.4955 - val_accuracy: 0.7845\n",
            "Epoch 4/30\n",
            "50/50 [==============================] - 4s 75ms/step - loss: 0.2598 - accuracy: 0.9052 - val_loss: 0.4700 - val_accuracy: 0.7870\n",
            "Epoch 5/30\n",
            "50/50 [==============================] - 4s 78ms/step - loss: 0.2051 - accuracy: 0.9247 - val_loss: 0.4633 - val_accuracy: 0.8045\n",
            "Epoch 6/30\n",
            "50/50 [==============================] - 5s 102ms/step - loss: 0.1523 - accuracy: 0.9485 - val_loss: 0.4425 - val_accuracy: 0.8095\n",
            "Epoch 7/30\n",
            "50/50 [==============================] - 4s 77ms/step - loss: 0.1263 - accuracy: 0.9598 - val_loss: 0.5316 - val_accuracy: 0.8020\n",
            "Epoch 8/30\n",
            "50/50 [==============================] - 4s 74ms/step - loss: 0.1095 - accuracy: 0.9648 - val_loss: 0.5487 - val_accuracy: 0.7970\n",
            "Epoch 9/30\n",
            "50/50 [==============================] - 5s 102ms/step - loss: 0.0854 - accuracy: 0.9743 - val_loss: 0.5854 - val_accuracy: 0.8045\n",
            "Epoch 10/30\n",
            "50/50 [==============================] - 4s 78ms/step - loss: 0.0843 - accuracy: 0.9736 - val_loss: 0.6358 - val_accuracy: 0.8020\n",
            "Epoch 11/30\n",
            "50/50 [==============================] - 4s 76ms/step - loss: 0.0697 - accuracy: 0.9793 - val_loss: 0.7974 - val_accuracy: 0.7920\n",
            "Epoch 12/30\n",
            "50/50 [==============================] - 5s 106ms/step - loss: 0.0564 - accuracy: 0.9849 - val_loss: 0.7959 - val_accuracy: 0.7945\n",
            "Epoch 13/30\n",
            "50/50 [==============================] - 4s 77ms/step - loss: 0.0527 - accuracy: 0.9856 - val_loss: 0.8700 - val_accuracy: 0.7945\n",
            "Epoch 14/30\n",
            "50/50 [==============================] - 4s 75ms/step - loss: 0.0558 - accuracy: 0.9874 - val_loss: 0.8300 - val_accuracy: 0.7920\n",
            "Epoch 15/30\n",
            "50/50 [==============================] - 5s 104ms/step - loss: 0.0485 - accuracy: 0.9874 - val_loss: 0.8942 - val_accuracy: 0.7820\n",
            "Epoch 16/30\n",
            "50/50 [==============================] - 4s 76ms/step - loss: 0.0500 - accuracy: 0.9862 - val_loss: 0.8426 - val_accuracy: 0.7870\n",
            "Epoch 17/30\n",
            "50/50 [==============================] - 4s 79ms/step - loss: 0.0433 - accuracy: 0.9887 - val_loss: 0.8995 - val_accuracy: 0.7794\n",
            "Epoch 18/30\n",
            "50/50 [==============================] - 5s 103ms/step - loss: 0.0387 - accuracy: 0.9918 - val_loss: 0.9487 - val_accuracy: 0.7769\n",
            "Epoch 19/30\n",
            "50/50 [==============================] - 4s 78ms/step - loss: 0.0569 - accuracy: 0.9856 - val_loss: 0.7909 - val_accuracy: 0.7870\n",
            "Epoch 20/30\n",
            "50/50 [==============================] - 4s 76ms/step - loss: 0.0415 - accuracy: 0.9887 - val_loss: 0.9166 - val_accuracy: 0.7794\n",
            "Epoch 21/30\n",
            "50/50 [==============================] - 5s 97ms/step - loss: 0.0336 - accuracy: 0.9900 - val_loss: 0.8820 - val_accuracy: 0.7895\n",
            "Epoch 22/30\n",
            "50/50 [==============================] - 4s 80ms/step - loss: 0.0355 - accuracy: 0.9900 - val_loss: 0.9522 - val_accuracy: 0.7669\n",
            "Epoch 23/30\n",
            "50/50 [==============================] - 4s 77ms/step - loss: 0.0430 - accuracy: 0.9868 - val_loss: 0.9232 - val_accuracy: 0.7694\n",
            "Epoch 24/30\n",
            "50/50 [==============================] - 5s 97ms/step - loss: 0.0329 - accuracy: 0.9912 - val_loss: 0.9138 - val_accuracy: 0.7945\n",
            "Epoch 25/30\n",
            "50/50 [==============================] - 4s 82ms/step - loss: 0.0199 - accuracy: 0.9950 - val_loss: 1.0638 - val_accuracy: 0.7845\n",
            "Epoch 26/30\n",
            "50/50 [==============================] - 4s 78ms/step - loss: 0.0191 - accuracy: 0.9937 - val_loss: 1.1119 - val_accuracy: 0.7719\n",
            "Epoch 27/30\n",
            "50/50 [==============================] - 5s 100ms/step - loss: 0.0184 - accuracy: 0.9956 - val_loss: 1.0509 - val_accuracy: 0.7895\n",
            "Epoch 28/30\n",
            "50/50 [==============================] - 4s 80ms/step - loss: 0.0175 - accuracy: 0.9950 - val_loss: 1.0478 - val_accuracy: 0.7945\n",
            "Epoch 29/30\n",
            "50/50 [==============================] - 4s 76ms/step - loss: 0.0183 - accuracy: 0.9944 - val_loss: 1.0670 - val_accuracy: 0.7970\n",
            "Epoch 30/30\n",
            "50/50 [==============================] - 5s 104ms/step - loss: 0.0145 - accuracy: 0.9969 - val_loss: 1.1220 - val_accuracy: 0.7895\n"
          ]
        },
        {
          "output_type": "execute_result",
          "data": {
            "text/plain": [
              "<keras.callbacks.History at 0x7f38af76c580>"
            ]
          },
          "metadata": {},
          "execution_count": 94
        }
      ]
    },
    {
      "cell_type": "code",
      "source": [
        "fake_reviews = [\"I love this phone\", \n",
        "                \"Everything was cold\",\n",
        "                \"Everything was hot exactly as I wanted\", \n",
        "                \"Everything was green\", \n",
        "                \"the host seated us immediately\",\n",
        "                \"they gave us free chocolate cake\", \n",
        "                \"I hate u\",\n",
        "                \"The phone is expensive but easy to use than any other\",\n",
        "                \"we couldn't hear each other talk because of the shouting in the kitchen\"\n",
        "              ]"
      ],
      "metadata": {
        "id": "j0cdrakHy_4J"
      },
      "execution_count": 103,
      "outputs": []
    },
    {
      "cell_type": "code",
      "source": [
        "f_sent=tokenizer.texts_to_sequences(fake_reviews)\n",
        "padded_seq2=pad_sequences(f_sent,maxlen=max_length,padding='post',truncating='post')"
      ],
      "metadata": {
        "id": "y3GH37E4y_-X"
      },
      "execution_count": 104,
      "outputs": []
    },
    {
      "cell_type": "code",
      "source": [
        "classes=model1.predict(padded_seq2)"
      ],
      "metadata": {
        "colab": {
          "base_uri": "https://localhost:8080/"
        },
        "id": "8l-jeieSzAB6",
        "outputId": "ede9721c-3168-4fe6-a74e-33a01a58bf5b"
      },
      "execution_count": 105,
      "outputs": [
        {
          "output_type": "stream",
          "name": "stdout",
          "text": [
            "1/1 [==============================] - 0s 33ms/step\n"
          ]
        }
      ]
    },
    {
      "cell_type": "code",
      "source": [
        "for i in range(len(fake_reviews)):\n",
        "  print(fake_reviews[i])\n",
        "  print(classes[i])"
      ],
      "metadata": {
        "colab": {
          "base_uri": "https://localhost:8080/"
        },
        "id": "CN_tY9tczAFH",
        "outputId": "5b5b1b8b-a0eb-471c-e8c5-272ceb06b154"
      },
      "execution_count": 106,
      "outputs": [
        {
          "output_type": "stream",
          "name": "stdout",
          "text": [
            "I love this phone\n",
            "[0.99726146]\n",
            "Everything was cold\n",
            "[0.00089762]\n",
            "Everything was hot exactly as I wanted\n",
            "[0.6749954]\n",
            "Everything was green\n",
            "[0.00202014]\n",
            "the host seated us immediately\n",
            "[0.9973365]\n",
            "they gave us free chocolate cake\n",
            "[0.99735427]\n",
            "I hate u\n",
            "[0.00079676]\n",
            "The phone is expensive but easy to use than any other\n",
            "[0.9978517]\n",
            "we couldn't hear each other talk because of the shouting in the kitchen\n",
            "[0.00053113]\n"
          ]
        }
      ]
    },
    {
      "cell_type": "code",
      "source": [],
      "metadata": {
        "id": "s9moEMl90iiy"
      },
      "execution_count": null,
      "outputs": []
    },
    {
      "cell_type": "code",
      "source": [],
      "metadata": {
        "id": "elnBZpr20ipv"
      },
      "execution_count": null,
      "outputs": []
    },
    {
      "cell_type": "code",
      "source": [],
      "metadata": {
        "id": "xNvHaGRi0iyG"
      },
      "execution_count": null,
      "outputs": []
    },
    {
      "cell_type": "code",
      "source": [],
      "metadata": {
        "id": "f9L03ERM0i0O"
      },
      "execution_count": null,
      "outputs": []
    },
    {
      "cell_type": "code",
      "source": [],
      "metadata": {
        "id": "4CFrw4yl0i4Z"
      },
      "execution_count": null,
      "outputs": []
    }
  ]
}